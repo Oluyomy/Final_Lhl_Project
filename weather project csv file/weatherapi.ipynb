{
 "cells": [
  {
   "cell_type": "code",
   "execution_count": 25,
   "metadata": {},
   "outputs": [],
   "source": [
    "import requests\n",
    "import json\n",
    "import pandas as pd\n",
    "import unidecode\n",
    "import numpy as np\n",
    "import pickle"
   ]
  },
  {
   "cell_type": "code",
   "execution_count": 26,
   "metadata": {},
   "outputs": [
    {
     "name": "stdout",
     "output_type": "stream",
     "text": [
      "{\"location\":{\"name\":\"Winnipeg\",\"region\":\"Manitoba\",\"country\":\"Canada\",\"lat\":49.88,\"lon\":-97.17,\"tz_id\":\"America/Winnipeg\",\"localtime_epoch\":1691195671,\"localtime\":\"2023-08-04 19:34\"},\"forecast\":{\"forecastday\":[{\"date\":\"2023-09-03\",\"date_epoch\":1693699200,\"day\":{\"maxtemp_c\":23.2,\"maxtemp_f\":73.8,\"mintemp_c\":13.0,\"mintemp_f\":55.3,\"avgtemp_c\":17.9,\"avgtemp_f\":64.2,\"maxwind_mph\":14.5,\"maxwind_kph\":23.4,\"totalprecip_mm\":1.66,\"totalprecip_in\":0.07,\"avgvis_km\":9.7,\"avgvis_miles\":6.0,\"avghumidity\":59.0,\"condition\":{\"text\":\"\",\"icon\":\"//cdn.weatherapi.com/weather/64x64/day/356.png\",\"code\":1243},\"uv\":0.0},\"astro\":{\"sunrise\":\"06:47 AM\",\"sunset\":\"08:08 PM\",\"moonrise\":\"09:42 PM\",\"moonset\":\"11:32 AM\",\"moon_phase\":\"Waning Gibbous\",\"moon_illumination\":\"88\"},\"hour\":[{\"time_epoch\":1693717200,\"time\":\"2023-09-03 00:00\",\"temp_c\":15.5,\"temp_f\":59.8,\"is_day\":0,\"condition\":{\"text\":\"\",\"icon\":\"//cdn.weatherapi.com/weather/64x64/night/176.png\",\"code\":1063},\"wind_mph\":9.0,\"wind_kph\":14.5,\"wind_degree\":206,\"wind_dir\":\"SSW\",\"pressure_mb\":1011.0,\"pressure_in\":29.84,\"precip_mm\":0.24,\"precip_in\":0.01,\"humidity\":66,\"cloud\":33,\"feelslike_c\":14.8,\"feelslike_f\":58.6,\"windchill_c\":14.8,\"windchill_f\":58.6,\"heatindex_c\":15.8,\"heatindex_f\":60.4,\"dewpoint_c\":9.0,\"dewpoint_f\":48.2,\"will_it_rain\":1,\"chance_of_rain\":82,\"will_it_snow\":0,\"chance_of_snow\":0,\"vis_km\":9.6,\"vis_miles\":5.0,\"gust_mph\":16.5,\"gust_kph\":26.6},{\"time_epoch\":1693728000,\"time\":\"2023-09-03 03:00\",\"temp_c\":14.1,\"temp_f\":57.3,\"is_day\":0,\"condition\":{\"text\":\"\",\"icon\":\"//cdn.weatherapi.com/weather/64x64/night/176.png\",\"code\":1063},\"wind_mph\":8.5,\"wind_kph\":13.7,\"wind_degree\":218,\"wind_dir\":\"SW\",\"pressure_mb\":1010.0,\"pressure_in\":29.84,\"precip_mm\":0.21,\"precip_in\":0.01,\"humidity\":70,\"cloud\":34,\"feelslike_c\":13.3,\"feelslike_f\":55.9,\"windchill_c\":13.3,\"windchill_f\":55.9,\"heatindex_c\":14.3,\"heatindex_f\":57.7,\"dewpoint_c\":8.0,\"dewpoint_f\":46.4,\"will_it_rain\":0,\"chance_of_rain\":63,\"will_it_snow\":0,\"chance_of_snow\":0,\"vis_km\":9.4,\"vis_miles\":5.0,\"gust_mph\":15.9,\"gust_kph\":25.6},{\"time_epoch\":1693738800,\"time\":\"2023-09-03 06:00\",\"temp_c\":13.2,\"temp_f\":55.8,\"is_day\":0,\"condition\":{\"text\":\"\",\"icon\":\"//cdn.weatherapi.com/weather/64x64/night/116.png\",\"code\":1003},\"wind_mph\":8.2,\"wind_kph\":13.2,\"wind_degree\":233,\"wind_dir\":\"SW\",\"pressure_mb\":1011.0,\"pressure_in\":29.87,\"precip_mm\":0.0,\"precip_in\":0.0,\"humidity\":73,\"cloud\":28,\"feelslike_c\":12.3,\"feelslike_f\":54.1,\"windchill_c\":12.3,\"windchill_f\":54.1,\"heatindex_c\":13.2,\"heatindex_f\":55.8,\"dewpoint_c\":8.1,\"dewpoint_f\":46.6,\"will_it_rain\":0,\"chance_of_rain\":0,\"will_it_snow\":0,\"chance_of_snow\":0,\"vis_km\":8.8,\"vis_miles\":5.0,\"gust_mph\":15.5,\"gust_kph\":24.9},{\"time_epoch\":1693749600,\"time\":\"2023-09-03 09:00\",\"temp_c\":17.5,\"temp_f\":63.6,\"is_day\":1,\"condition\":{\"text\":\"\",\"icon\":\"//cdn.weatherapi.com/weather/64x64/day/116.png\",\"code\":1003},\"wind_mph\":9.7,\"wind_kph\":15.6,\"wind_degree\":247,\"wind_dir\":\"WSW\",\"pressure_mb\":1012.0,\"pressure_in\":29.88,\"precip_mm\":0.0,\"precip_in\":0.0,\"humidity\":60,\"cloud\":29,\"feelslike_c\":17.0,\"feelslike_f\":62.5,\"windchill_c\":17.0,\"windchill_f\":62.5,\"heatindex_c\":17.9,\"heatindex_f\":64.2,\"dewpoint_c\":9.6,\"dewpoint_f\":49.2,\"will_it_rain\":0,\"chance_of_rain\":0,\"will_it_snow\":0,\"chance_of_snow\":0,\"vis_km\":9.9,\"vis_miles\":6.0,\"gust_mph\":16.1,\"gust_kph\":25.9},{\"time_epoch\":1693760400,\"time\":\"2023-09-03 12:00\",\"temp_c\":21.6,\"temp_f\":70.9,\"is_day\":1,\"condition\":{\"text\":\"\",\"icon\":\"//cdn.weatherapi.com/weather/64x64/day/176.png\",\"code\":1063},\"wind_mph\":12.0,\"wind_kph\":19.3,\"wind_degree\":225,\"wind_dir\":\"SW\",\"pressure_mb\":1012.0,\"pressure_in\":29.89,\"precip_mm\":0.01,\"precip_in\":0.0,\"humidity\":48,\"cloud\":38,\"feelslike_c\":21.3,\"feelslike_f\":70.3,\"windchill_c\":21.3,\"windchill_f\":70.3,\"heatindex_c\":22.3,\"heatindex_f\":72.2,\"dewpoint_c\":10.2,\"dewpoint_f\":50.3,\"will_it_rain\":0,\"chance_of_rain\":62,\"will_it_snow\":0,\"chance_of_snow\":0,\"vis_km\":10.0,\"vis_miles\":6.0,\"gust_mph\":19.4,\"gust_kph\":31.1},{\"time_epoch\":1693771200,\"time\":\"2023-09-03 15:00\",\"temp_c\":23.0,\"temp_f\":73.4,\"is_day\":1,\"condition\":{\"text\":\"\",\"icon\":\"//cdn.weatherapi.com/weather/64x64/day/116.png\",\"code\":1003},\"wind_mph\":12.4,\"wind_kph\":20.0,\"wind_degree\":240,\"wind_dir\":\"WSW\",\"pressure_mb\":1012.0,\"pressure_in\":29.87,\"precip_mm\":0.0,\"precip_in\":0.0,\"humidity\":43,\"cloud\":30,\"feelslike_c\":23.5,\"feelslike_f\":74.2,\"windchill_c\":22.9,\"windchill_f\":73.2,\"heatindex_c\":23.5,\"heatindex_f\":74.2,\"dewpoint_c\":9.8,\"dewpoint_f\":49.6,\"will_it_rain\":0,\"chance_of_rain\":0,\"will_it_snow\":0,\"chance_of_snow\":0,\"vis_km\":10.0,\"vis_miles\":6.0,\"gust_mph\":19.4,\"gust_kph\":31.2},{\"time_epoch\":1693782000,\"time\":\"2023-09-03 18:00\",\"temp_c\":21.4,\"temp_f\":70.6,\"is_day\":1,\"condition\":{\"text\":\"\",\"icon\":\"//cdn.weatherapi.com/weather/64x64/day/116.png\",\"code\":1003},\"wind_mph\":9.4,\"wind_kph\":15.2,\"wind_degree\":244,\"wind_dir\":\"WSW\",\"pressure_mb\":1012.0,\"pressure_in\":29.88,\"precip_mm\":0.0,\"precip_in\":0.0,\"humidity\":49,\"cloud\":26,\"feelslike_c\":21.2,\"feelslike_f\":70.2,\"windchill_c\":21.2,\"windchill_f\":70.2,\"heatindex_c\":22.1,\"heatindex_f\":71.8,\"dewpoint_c\":10.3,\"dewpoint_f\":50.5,\"will_it_rain\":0,\"chance_of_rain\":0,\"will_it_snow\":0,\"chance_of_snow\":0,\"vis_km\":9.9,\"vis_miles\":6.0,\"gust_mph\":16.5,\"gust_kph\":26.5},{\"time_epoch\":1693792800,\"time\":\"2023-09-03 21:00\",\"temp_c\":17.1,\"temp_f\":62.7,\"is_day\":0,\"condition\":{\"text\":\"\",\"icon\":\"//cdn.weatherapi.com/weather/64x64/night/176.png\",\"code\":1063},\"wind_mph\":8.4,\"wind_kph\":13.5,\"wind_degree\":225,\"wind_dir\":\"SW\",\"pressure_mb\":1013.0,\"pressure_in\":29.92,\"precip_mm\":0.15,\"precip_in\":0.01,\"humidity\":62,\"cloud\":24,\"feelslike_c\":16.7,\"feelslike_f\":62.0,\"windchill_c\":16.7,\"windchill_f\":62.0,\"heatindex_c\":17.5,\"heatindex_f\":63.5,\"dewpoint_c\":9.3,\"dewpoint_f\":48.7,\"will_it_rain\":1,\"chance_of_rain\":86,\"will_it_snow\":0,\"chance_of_snow\":0,\"vis_km\":9.9,\"vis_miles\":6.0,\"gust_mph\":15.3,\"gust_kph\":24.6}]}]}}\n"
     ]
    }
   ],
   "source": [
    "##To request for WINNIPEG\n",
    "\n",
    "url = \"http://api.weatherapi.com/v1/future.json?key=5f6203f9fe2f4ff2a7303711230408&q=winnipeg&dt=2023-09-03\"\n",
    "\n",
    "headers = {\n",
    "    \"accept\": \"application/json\",\n",
    "    \"Authorization\": '5f6203f9fe2f4ff2a7303711230408'\n",
    "}\n",
    "response = requests.get(url, headers=headers)\n",
    "\n",
    "print(response.text)"
   ]
  },
  {
   "cell_type": "code",
   "execution_count": null,
   "metadata": {},
   "outputs": [],
   "source": []
  },
  {
   "cell_type": "code",
   "execution_count": 27,
   "metadata": {},
   "outputs": [
    {
     "name": "stdout",
     "output_type": "stream",
     "text": [
      "Location DataFrame:\n",
      "       name    region country    lat    lon             tz_id  \\\n",
      "0  Winnipeg  Manitoba  Canada  49.88 -97.17  America/Winnipeg   \n",
      "\n",
      "   localtime_epoch         localtime  \n",
      "0       1691195671  2023-08-04 19:34  \n"
     ]
    }
   ],
   "source": [
    "# Make the API request\n",
    "response = requests.get(url, headers=headers)\n",
    "response_data = json.loads(response.text)\n",
    "\n",
    "# Convert location data to DataFrame\n",
    "location_data = response_data['location']\n",
    "location_df = pd.DataFrame([location_data])\n",
    "# Print the DataFrames\n",
    "print(\"Location DataFrame:\")\n",
    "print(location_df)"
   ]
  },
  {
   "cell_type": "code",
   "execution_count": 28,
   "metadata": {},
   "outputs": [
    {
     "name": "stdout",
     "output_type": "stream",
     "text": [
      "\n",
      "Forecast DataFrame:\n",
      "   maxtemp_c  maxtemp_f  mintemp_c  mintemp_f  avgtemp_c  avgtemp_f  \\\n",
      "0       23.2       73.8       13.0       55.3       17.9       64.2   \n",
      "\n",
      "   maxwind_mph  maxwind_kph  totalprecip_mm  totalprecip_in  avgvis_km  \\\n",
      "0         14.5         23.4            1.66            0.07        9.7   \n",
      "\n",
      "   avgvis_miles  avghumidity  \\\n",
      "0           6.0         59.0   \n",
      "\n",
      "                                           condition   uv  \n",
      "0  {'text': '', 'icon': '//cdn.weatherapi.com/wea...  0.0  \n"
     ]
    }
   ],
   "source": [
    "import pandas as pd\n",
    "\n",
    "# Assuming response is a valid JSON containing location information\n",
    "response_data= response.json()\n",
    "\n",
    "## Convert forecast day data to DataFrame\n",
    "forecast_data = response_data['forecast']['forecastday'][0]['day']\n",
    "forecast_df = pd.DataFrame([forecast_data])\n",
    "print(\"\\nForecast DataFrame:\")\n",
    "print(forecast_df)\n"
   ]
  },
  {
   "cell_type": "code",
   "execution_count": 31,
   "metadata": {},
   "outputs": [
    {
     "name": "stdout",
     "output_type": "stream",
     "text": [
      "Location DataFrame:\n",
      "       name    region country    lat    lon             tz_id  \\\n",
      "0  Winnipeg  Manitoba  Canada  49.88 -97.17  America/Winnipeg   \n",
      "\n",
      "   localtime_epoch         localtime  \n",
      "0       1691195972  2023-08-04 19:39  \n",
      "\n",
      "Forecast DataFrame:\n"
     ]
    },
    {
     "data": {
      "text/html": [
       "<div>\n",
       "<style scoped>\n",
       "    .dataframe tbody tr th:only-of-type {\n",
       "        vertical-align: middle;\n",
       "    }\n",
       "\n",
       "    .dataframe tbody tr th {\n",
       "        vertical-align: top;\n",
       "    }\n",
       "\n",
       "    .dataframe thead th {\n",
       "        text-align: right;\n",
       "    }\n",
       "</style>\n",
       "<table border=\"1\" class=\"dataframe\">\n",
       "  <thead>\n",
       "    <tr style=\"text-align: right;\">\n",
       "      <th></th>\n",
       "      <th>maxtemp_c</th>\n",
       "      <th>maxtemp_f</th>\n",
       "      <th>mintemp_c</th>\n",
       "      <th>mintemp_f</th>\n",
       "      <th>avgtemp_c</th>\n",
       "      <th>avgtemp_f</th>\n",
       "      <th>maxwind_mph</th>\n",
       "      <th>maxwind_kph</th>\n",
       "      <th>totalprecip_mm</th>\n",
       "      <th>totalprecip_in</th>\n",
       "      <th>avgvis_km</th>\n",
       "      <th>avgvis_miles</th>\n",
       "      <th>avghumidity</th>\n",
       "      <th>condition</th>\n",
       "      <th>uv</th>\n",
       "    </tr>\n",
       "  </thead>\n",
       "  <tbody>\n",
       "    <tr>\n",
       "      <th>0</th>\n",
       "      <td>23.2</td>\n",
       "      <td>73.8</td>\n",
       "      <td>13.0</td>\n",
       "      <td>55.3</td>\n",
       "      <td>17.9</td>\n",
       "      <td>64.2</td>\n",
       "      <td>14.5</td>\n",
       "      <td>23.4</td>\n",
       "      <td>1.66</td>\n",
       "      <td>0.07</td>\n",
       "      <td>9.7</td>\n",
       "      <td>6.0</td>\n",
       "      <td>59.0</td>\n",
       "      <td>{'text': '', 'icon': '//cdn.weatherapi.com/wea...</td>\n",
       "      <td>0.0</td>\n",
       "    </tr>\n",
       "  </tbody>\n",
       "</table>\n",
       "</div>"
      ],
      "text/plain": [
       "   maxtemp_c  maxtemp_f  mintemp_c  mintemp_f  avgtemp_c  avgtemp_f  \\\n",
       "0       23.2       73.8       13.0       55.3       17.9       64.2   \n",
       "\n",
       "   maxwind_mph  maxwind_kph  totalprecip_mm  totalprecip_in  avgvis_km  \\\n",
       "0         14.5         23.4            1.66            0.07        9.7   \n",
       "\n",
       "   avgvis_miles  avghumidity  \\\n",
       "0           6.0         59.0   \n",
       "\n",
       "                                           condition   uv  \n",
       "0  {'text': '', 'icon': '//cdn.weatherapi.com/wea...  0.0  "
      ]
     },
     "execution_count": 31,
     "metadata": {},
     "output_type": "execute_result"
    }
   ],
   "source": [
    "import json\n",
    "import pandas as pd\n",
    "import requests\n",
    "\n",
    "# API request setup\n",
    "url = \"http://api.weatherapi.com/v1/future.json?key=5f6203f9fe2f4ff2a7303711230408&q=winnipeg&dt=2023-09-03\"\n",
    "headers = {\n",
    "    \"accept\": \"application/json\",\n",
    "    \"Authorization\": '5f6203f9fe2f4ff2a7303711230408'\n",
    "}\n",
    "\n",
    "# Make the API request\n",
    "response = requests.get(url, headers=headers)\n",
    "response_data = json.loads(response.text)\n",
    "\n",
    "# Convert location data to DataFrame\n",
    "location_data = response_data['location']\n",
    "location_df = pd.DataFrame([location_data])\n",
    "\n",
    "# Convert forecast day data to DataFrame\n",
    "forecast_data = response_data['forecast']['forecastday'][0]['day']\n",
    "forecast_df = pd.DataFrame([forecast_data])\n",
    "\n",
    "# Print the DataFrames\n",
    "print(\"Location DataFrame:\")\n",
    "print(location_df)\n",
    "\n",
    "print(\"\\nForecast DataFrame:\")\n",
    "forecast_df\n"
   ]
  }
 ],
 "metadata": {
  "kernelspec": {
   "display_name": "test_env",
   "language": "python",
   "name": "python3"
  },
  "language_info": {
   "codemirror_mode": {
    "name": "ipython",
    "version": 3
   },
   "file_extension": ".py",
   "mimetype": "text/x-python",
   "name": "python",
   "nbconvert_exporter": "python",
   "pygments_lexer": "ipython3",
   "version": "3.10.11"
  },
  "orig_nbformat": 4
 },
 "nbformat": 4,
 "nbformat_minor": 2
}
